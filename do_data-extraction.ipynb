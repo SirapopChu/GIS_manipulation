{
 "cells": [
  {
   "cell_type": "code",
   "execution_count": 1,
   "metadata": {},
   "outputs": [],
   "source": [
    "import requests\n",
    "import pandas as pd"
   ]
  },
  {
   "cell_type": "code",
   "execution_count": 2,
   "metadata": {},
   "outputs": [],
   "source": [
    "# system config\n",
    "# source: dpmreporter.disaster.go.th/portal/\n",
    "start_year = 2018\n",
    "end_year = 2024"
   ]
  },
  {
   "cell_type": "code",
   "execution_count": 3,
   "metadata": {},
   "outputs": [],
   "source": [
    "current_year = start_year\n",
    "\n",
    "for i_year in range(end_year - start_year + 1):\n",
    "    \n",
    "    url = rf'https://dpmreporter.disaster.go.th/portal/services/disaster_statistics/get_stat_news.php?type=3&date_start={current_year}&date_end={current_year}'\n",
    "    \n",
    "    response = requests.post(url)\n",
    "    response = response.json()\n",
    "\n",
    "    data = response['data']['data']['data']\n",
    "\n",
    "    if current_year == start_year:\n",
    "        df = pd.json_normalize(data)\n",
    "        df = df.assign(year = current_year)\n",
    "    \n",
    "    else:\n",
    "        buffer_df = pd.json_normalize(data)\n",
    "        buffer_df = buffer_df.assign(year = current_year)\n",
    "        df = pd.concat([df, buffer_df], axis=0, ignore_index=True)\n",
    "\n",
    "    current_year += 1"
   ]
  },
  {
   "cell_type": "code",
   "execution_count": 4,
   "metadata": {},
   "outputs": [],
   "source": [
    "df = df.dropna().reset_index(drop=True)\n",
    "df = df.drop(['id', 'color', 'percent'], axis=1)\n",
    "df = df.rename(columns={'name': 'risk_type', 'news_province': 'pname', 'y': 'n_occurance', 'province_id': 'pid'})\n",
    "df = df.loc[:, ['year', 'pid', 'pname', 'risk_type', 'n_occurance']]\n",
    "\n",
    "df.pid = df.pid.astype(int)"
   ]
  },
  {
   "cell_type": "code",
   "execution_count": 5,
   "metadata": {},
   "outputs": [],
   "source": [
    "p_loc_df = pd.read_csv(r'archive\\dataset\\ddpm\\DDPM_arcrest_admin_province_csv.csv')\n",
    "p_loc_df = p_loc_df.drop(['OBJECTID', 'PROV_NAM_T', 'PROV_NAM_E', 'ProvinceID', 'ProvinceTH', 'ProvinceEN', 'F4Region', 'MetroRegio', 'Units'], axis=1)\n",
    "df = df.merge(p_loc_df, how='left', left_on='pid', right_on='PROV_CODE').drop(['PROV_CODE'], axis=1)\n",
    "df = df.loc[:, ['year', 'pid', 'pname', 'FormalRegi', 'lat', 'lon', 'risk_type', 'n_occurance']]"
   ]
  },
  {
   "cell_type": "code",
   "execution_count": 39,
   "metadata": {},
   "outputs": [],
   "source": [
    "df.to_csv('dataset/do_2018_2024.csv', encoding='utf-8', index=False)"
   ]
  }
 ],
 "metadata": {
  "kernelspec": {
   "display_name": "keplerV2",
   "language": "python",
   "name": "python3"
  },
  "language_info": {
   "codemirror_mode": {
    "name": "ipython",
    "version": 3
   },
   "file_extension": ".py",
   "mimetype": "text/x-python",
   "name": "python",
   "nbconvert_exporter": "python",
   "pygments_lexer": "ipython3",
   "version": "3.11.4"
  }
 },
 "nbformat": 4,
 "nbformat_minor": 2
}
